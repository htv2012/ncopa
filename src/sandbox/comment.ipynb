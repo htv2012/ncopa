{
 "cells": [
  {
   "cell_type": "markdown",
   "id": "86f1cb50-75a3-4f93-8d6d-ce90830936ee",
   "metadata": {},
   "source": [
    "# Comment Sandbox\n",
    "\n",
    "Currently, code to parse comment is clunky. In this sandbox, I am exploring the idea in which the lexer do not skip over new line and see if we can improve."
   ]
  },
  {
   "cell_type": "code",
   "execution_count": 20,
   "id": "d9743cf0-0a19-4fa7-b48c-bc2c2c1f2c29",
   "metadata": {},
   "outputs": [],
   "source": [
    "import shlex"
   ]
  },
  {
   "cell_type": "code",
   "execution_count": 13,
   "id": "15f4099a-e94d-4900-baad-2018cefea47b",
   "metadata": {},
   "outputs": [
    {
     "name": "stdout",
     "output_type": "stream",
     "text": [
      "# simple.conf\n",
      "\n",
      "# Multiple comment\n",
      "user nginx; # Default user\n",
      "http { # Top comment\n",
      "    # default type\n",
      "    default_type application/octet-stream;\n",
      "} # bottom comment\n",
      "worker_processes auto;\n",
      "# comment at eof\n"
     ]
    }
   ],
   "source": [
    "text = \"\"\"# simple.conf\\r\\n\n",
    "# Multiple comment\n",
    "user nginx; # Default user\n",
    "http { # Top comment\n",
    "    # default type\n",
    "    default_type application/octet-stream;\n",
    "} # bottom comment\n",
    "worker_processes auto;\n",
    "# comment at eof\"\"\"\n",
    "print(text)"
   ]
  },
  {
   "cell_type": "code",
   "execution_count": 14,
   "id": "d36fa0ca-c5d2-44c5-87a2-e6841d758b9e",
   "metadata": {},
   "outputs": [],
   "source": [
    "lex = shlex.shlex(text, posix=True, punctuation_chars=\";\")\n",
    "lex.commenters = \"\"\n",
    "# lex.wordchars += \":.\""
   ]
  },
  {
   "cell_type": "code",
   "execution_count": 17,
   "id": "c838dca7-7f50-4c0b-a58c-2f43201fe102",
   "metadata": {},
   "outputs": [
    {
     "data": {
      "text/plain": [
       "' \\t\\r\\n'"
      ]
     },
     "execution_count": 17,
     "metadata": {},
     "output_type": "execute_result"
    }
   ],
   "source": [
    "lex.whitespace"
   ]
  },
  {
   "cell_type": "code",
   "execution_count": 18,
   "id": "e51b79c4-fee6-43b2-9e95-47c08362fadd",
   "metadata": {},
   "outputs": [],
   "source": [
    "lex.whitespace = \" \\t\""
   ]
  },
  {
   "cell_type": "code",
   "execution_count": 19,
   "id": "e5a9669d-68e0-485c-877c-ce77e79bd1f4",
   "metadata": {},
   "outputs": [
    {
     "data": {
      "text/plain": [
       "['#',\n",
       " 'simple.conf',\n",
       " '\\r',\n",
       " '\\n',\n",
       " '\\n',\n",
       " '#',\n",
       " 'Multiple',\n",
       " 'comment',\n",
       " '\\n',\n",
       " 'user',\n",
       " 'nginx',\n",
       " ';',\n",
       " '#',\n",
       " 'Default',\n",
       " 'user',\n",
       " '\\n',\n",
       " 'http',\n",
       " '{',\n",
       " '#',\n",
       " 'Top',\n",
       " 'comment',\n",
       " '\\n',\n",
       " '#',\n",
       " 'default',\n",
       " 'type',\n",
       " '\\n',\n",
       " 'default_type',\n",
       " 'application/octet-stream',\n",
       " ';',\n",
       " '\\n',\n",
       " '}',\n",
       " '#',\n",
       " 'bottom',\n",
       " 'comment',\n",
       " '\\n',\n",
       " 'worker_processes',\n",
       " 'auto',\n",
       " ';',\n",
       " '\\n',\n",
       " '#',\n",
       " 'comment',\n",
       " 'at',\n",
       " 'eof']"
      ]
     },
     "execution_count": 19,
     "metadata": {},
     "output_type": "execute_result"
    }
   ],
   "source": [
    "list(lex)"
   ]
  },
  {
   "cell_type": "code",
   "execution_count": null,
   "id": "24b7223c-c1a1-4645-beff-7f9e97bc1244",
   "metadata": {},
   "outputs": [],
   "source": []
  }
 ],
 "metadata": {
  "kernelspec": {
   "display_name": "Python 3 (ipykernel)",
   "language": "python",
   "name": "python3"
  },
  "language_info": {
   "codemirror_mode": {
    "name": "ipython",
    "version": 3
   },
   "file_extension": ".py",
   "mimetype": "text/x-python",
   "name": "python",
   "nbconvert_exporter": "python",
   "pygments_lexer": "ipython3",
   "version": "3.13.1"
  }
 },
 "nbformat": 4,
 "nbformat_minor": 5
}
